{
 "cells": [
  {
   "cell_type": "code",
   "execution_count": 2,
   "metadata": {
    "collapsed": true
   },
   "outputs": [],
   "source": [
    "import requests\n",
    "from bs4 import BeautifulSoup\n",
    "import re\n",
    "import datetime\n",
    "import pandas as pd\n",
    "import json"
   ]
  },
  {
   "cell_type": "code",
   "execution_count": 3,
   "metadata": {
    "collapsed": true
   },
   "outputs": [],
   "source": [
    "event_dict = {'PS' : 'Play Start',\n",
    "              'PE' : 'Play End',\n",
    "              'G' : 'Goal',\n",
    "              'S' : 'Substitution',\n",
    "              'O' : 'Own Goal',\n",
    "              'B' : 'Booking',\n",
    "              'P' : 'Penalty'}\n",
    "\n",
    "description_dict = {'G' : 'Goal',\n",
    "                    'Y' : 'Yellow',\n",
    "                    'YR' : 'Red (Second Yellow)',\n",
    "                    'R' : 'Red',\n",
    "                    'ON' : 'Player On',\n",
    "                    'OFF' : 'Player Off',\n",
    "                    'P' : 'Penalty',\n",
    "                    'O' : 'Own Goal'}\n",
    "\n",
    "season_dict = {'1992-93' : range(1, 463),\n",
    "               '1993-94' : range(463, 925),\n",
    "               '1994-95' : range(925, 1387),\n",
    "               '1995-96' : range(1387, 1767),\n",
    "               '1996-97' : range(1767, 2147),\n",
    "               '1997-98' : range(2147, 2527),\n",
    "               '1998-99' : range(2527, 2907),\n",
    "               '1999-00' : range(2907, 3287),\n",
    "               '2000-01' : range(3287, 3667),\n",
    "               '2001-02' : range(3667, 4047),\n",
    "               '2002-03' : range(4047, 4427),\n",
    "               '2003-04' : range(4427, 4807),\n",
    "               '2004-05' : range(4807, 5187),\n",
    "               '2005-06' : range(5187, 5567),\n",
    "               '2006-07' : range(5567, 5947),\n",
    "               '2007-08' : range(5947, 6327),\n",
    "               '2008-09' : range(6327, 6707),\n",
    "               '2009-10' : range(6707, 7087),\n",
    "               '2010-11' : range(7087, 7467),\n",
    "               '2011-12' : range(7467, 7847),\n",
    "               '2012-13' : range(7864, 8244),\n",
    "               '2013-14' : range(9231, 9611),\n",
    "               '2014-15' : range(9611, 9991),\n",
    "               '2015-16' : range(12115, 12495),\n",
    "               '2016-17' : range(14040, 14420)}"
   ]
  },
  {
   "cell_type": "code",
   "execution_count": 4,
   "metadata": {
    "collapsed": true
   },
   "outputs": [],
   "source": [
    "def getMatch(matchID) :\n",
    "    #print('\\rMatch Id : ', matchID, end = '')\n",
    "    url = \"https://www.premierleague.com/match/\" + str(matchID)\n",
    "    r = requests.get(url)\n",
    "    soup = BeautifulSoup(r.content, \"lxml\")\n",
    "    \n",
    "    find = str(soup.find_all(attrs = {\"class\" : \"mcTabsContainer\"})).split('</div>')[0]\n",
    "    \n",
    "    str_data = find.lstrip(\"\"\"[<div class=\"mcTabsContainer\" data-fixture=\\'\"\"\")\n",
    "    str_data = str_data.rstrip(\"\"\"\\' data-script=\"pl_match-centre\" data-widget=\"match-tabs\">\\n<div class=\"wrapper col-12\">\\n<div class=\"tabLinks matchNav\">\\n<div class=\"tabs\">\"\"\")\n",
    "    try :\n",
    "        match_data = json.loads(str_data)\n",
    "    except Exception :\n",
    "        return False\n",
    "    return(match_data)"
   ]
  },
  {
   "cell_type": "code",
   "execution_count": 5,
   "metadata": {
    "collapsed": true
   },
   "outputs": [],
   "source": [
    "def getTeams(match_data) :\n",
    "    teams = match_data['teams']\n",
    "    home_team = teams[0]['team']['name']\n",
    "    home_team_id = teams[0]['team']['id']\n",
    "    \n",
    "    away_team = teams[1]['team']['name']\n",
    "    away_team_id = teams[1]['team']['id']\n",
    "    \n",
    "    return((home_team, home_team_id), (away_team, away_team_id))"
   ]
  },
  {
   "cell_type": "code",
   "execution_count": 6,
   "metadata": {
    "collapsed": true
   },
   "outputs": [],
   "source": [
    "def getFullTimeScore(match_data, str_output = False) :\n",
    "    data = match_data['teams']\n",
    "    home = data[0]['score']\n",
    "    away = data[1]['score']\n",
    "    if str_output :\n",
    "        return(str(home) + '-' + str(away))\n",
    "    else :\n",
    "        return(home, away)"
   ]
  },
  {
   "cell_type": "code",
   "execution_count": 7,
   "metadata": {
    "collapsed": true
   },
   "outputs": [],
   "source": [
    "def getHalfTimeScore(match_data, str_output = False) :\n",
    "    home = match_data['halfTimeScore']['homeScore']\n",
    "    away = match_data['halfTimeScore']['awayScore']\n",
    "    \n",
    "    if str_output :\n",
    "        return(str(home) + '-' + str(away))\n",
    "    else :\n",
    "        return(home, away)"
   ]
  },
  {
   "cell_type": "code",
   "execution_count": 8,
   "metadata": {
    "collapsed": true
   },
   "outputs": [],
   "source": [
    "def getMatchInfo(match_data) :\n",
    "    competition = match_data['gameweek']['compSeason']['competition']['description']\n",
    "    season = match_data['gameweek']['compSeason']['label']\n",
    "    gameweek = match_data['gameweek']['gameweek']\n",
    "    date = datetime.datetime.fromtimestamp(match_data['kickoff']['millis'] / 1e3)\n",
    "    stadium = match_data['ground']['name']\n",
    "    city = match_data['ground']['city']\n",
    "    attendance = match_data['attendance']\n",
    "    match_officials = [(match_data['matchOfficials'][i]['name']['display'], match_data['matchOfficials'][i]['role']) for i in range(len(match_data['matchOfficials']))]\n",
    "    \n",
    "    return(competition, season, gameweek, date, stadium, city, attendance, match_officials)"
   ]
  },
  {
   "cell_type": "code",
   "execution_count": 9,
   "metadata": {
    "collapsed": true
   },
   "outputs": [],
   "source": [
    "def getTeamsInfo(match_data) :\n",
    "    home_formation, away_formation = None, None\n",
    "    if 'formation' in match_data['teamLists'][0] :\n",
    "        home_formation = match_data['teamLists'][0]['formation']['label']\n",
    "    if 'formation' in match_data['teamLists'][1] :\n",
    "        away_formation = match_data['teamLists'][1]['formation']['label']\n",
    "        \n",
    "    home_team = [(match_data['teamLists'][0]['lineup'][i]['name']['display'],\n",
    "                  match_data['teamLists'][0]['lineup'][i]['id'],\n",
    "                  match_data['teamLists'][0]['lineup'][i]['matchPosition']) for i in range(len(match_data['teamLists'][0]['lineup']))]\n",
    "    \n",
    "    away_team = [(match_data['teamLists'][1]['lineup'][i]['name']['display'],\n",
    "                  match_data['teamLists'][1]['lineup'][i]['id'],\n",
    "                  match_data['teamLists'][1]['lineup'][i]['matchPosition']) for i in range(len(match_data['teamLists'][1]['lineup']))]\n",
    "    \n",
    "    return(home_team, home_formation, away_team, away_formation)"
   ]
  },
  {
   "cell_type": "code",
   "execution_count": 49,
   "metadata": {
    "collapsed": true
   },
   "outputs": [],
   "source": [
    "def getMatchEvents(match_data) :\n",
    "    events = match_data['events']\n",
    "    match_events = []\n",
    "    gw = match_data['gameweek']['gameweek']\n",
    "    gid = match_data['id']\n",
    "    for event in events :\n",
    "        minute = event['clock']['label']\n",
    "        \n",
    "        event_type = event_dict[event['type']]\n",
    "        \n",
    "        event_description = None\n",
    "        if 'description' in event :\n",
    "            event_description = description_dict[event['description']]\n",
    "            \n",
    "        player = None\n",
    "        if 'personId' in event :\n",
    "            player = event['personId']\n",
    "            #player_name = match_data['teamLists'][0]['lineup'][i]['name']['display']\n",
    "        \n",
    "        team = None\n",
    "        if 'teamId' in event :\n",
    "            team = event['teamId']\n",
    "        \n",
    "        assister = None\n",
    "        if 'assistId' in event :\n",
    "            assister = event['assistId']\n",
    "            #assister_name = match_data['teamLists'][0]['lineup'][i]['name']['display']\n",
    "        \n",
    "        match_events.append((gw, gid, minute, event_type, event_description, player, team, assister))\n",
    "    return match_events"
   ]
  },
  {
   "cell_type": "code",
   "execution_count": 11,
   "metadata": {
    "collapsed": true
   },
   "outputs": [],
   "source": [
    "def jsonDump(season, path) : \n",
    "    data = [getMatch(match) for match in season_dict[season]]\n",
    "    bad_vals = data.count(False)\n",
    "    with open(path + season + '.json', 'w') as fp:\n",
    "        json.dump(data, fp)\n",
    "    with open(path + 'stats.txt', 'a') as st :\n",
    "        st.write('{}, {}/{} Bad Data\\n'.format(season, bad_vals, len(data)))"
   ]
  }
 ],
 "metadata": {
  "kernelspec": {
   "display_name": "Python [conda root]",
   "language": "python",
   "name": "conda-root-py"
  },
  "language_info": {
   "codemirror_mode": {
    "name": "ipython",
    "version": 3
   },
   "file_extension": ".py",
   "mimetype": "text/x-python",
   "name": "python",
   "nbconvert_exporter": "python",
   "pygments_lexer": "ipython3",
   "version": "3.5.3"
  }
 },
 "nbformat": 4,
 "nbformat_minor": 2
}
